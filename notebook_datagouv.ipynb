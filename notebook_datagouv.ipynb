# %%
import pandas as pd

pd.set_option('display.max_columns',None)

path= "/home/lifu237/fr-esr-atlas_regional-effectifs-d-etudiants-inscrits-detail_etablissements.csv"
df=pd.read_csv(path, sep=';')
df.sample(5)

# %%
columns=['rentree', 'categorie_etablissement','secteur_etablissement','sigle_etablissement', 'libelle_etablissement_1','libelle_etablissement_2','reg_nom','aca_nom','geo','degetu','degre_etudes','effectifhdccpge',
         'dont_femmes','dont_hommes']

# %%
df=df[columns]
df.drop_duplicates()
df[['latitude', 'longitude']] = df['geo'].str.extract(r'([0-9]+\.[0-9]+),\s*([0-9]+\.[0-9]+)', expand=True)
df['latitude'] = pd.to_numeric(df['latitude'])
df['longitude'] = pd.to_numeric(df['longitude'])

print(len(df))
df.sample(5)

# %%
df = df.drop('geo', axis=1)


# %%
df['effectifhdccpge'] = pd.to_numeric(df['effectifhdccpge'], errors='coerce')
df = df.dropna(subset=['effectifhdccpge'])
print(len(df))


# %%
df.columns


